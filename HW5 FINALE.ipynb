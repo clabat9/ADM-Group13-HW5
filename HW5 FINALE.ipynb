{
 "cells": [
  {
   "cell_type": "code",
   "execution_count": 50,
   "metadata": {},
   "outputs": [],
   "source": [
    "import pandas as pd\n",
    "import networkx as nx\n",
    "import numpy as np\n",
    "from tqdm import tqdm\n",
    "import itertools as it\n",
    "import pickle\n",
    "import collections as ct\n",
    "from collections import *\n",
    "from operator import itemgetter"
   ]
  },
  {
   "cell_type": "markdown",
   "metadata": {},
   "source": [
    "### leggo il file con grafo ridotto "
   ]
  },
  {
   "cell_type": "code",
   "execution_count": 2,
   "metadata": {
    "scrolled": true
   },
   "outputs": [
    {
     "data": {
      "text/html": [
       "<div>\n",
       "<style scoped>\n",
       "    .dataframe tbody tr th:only-of-type {\n",
       "        vertical-align: middle;\n",
       "    }\n",
       "\n",
       "    .dataframe tbody tr th {\n",
       "        vertical-align: top;\n",
       "    }\n",
       "\n",
       "    .dataframe thead th {\n",
       "        text-align: right;\n",
       "    }\n",
       "</style>\n",
       "<table border=\"1\" class=\"dataframe\">\n",
       "  <thead>\n",
       "    <tr style=\"text-align: right;\">\n",
       "      <th></th>\n",
       "      <th>Source</th>\n",
       "      <th>Destination</th>\n",
       "    </tr>\n",
       "  </thead>\n",
       "  <tbody>\n",
       "    <tr>\n",
       "      <th>0</th>\n",
       "      <td>52</td>\n",
       "      <td>401135</td>\n",
       "    </tr>\n",
       "    <tr>\n",
       "      <th>1</th>\n",
       "      <td>52</td>\n",
       "      <td>1069112</td>\n",
       "    </tr>\n",
       "    <tr>\n",
       "      <th>2</th>\n",
       "      <td>52</td>\n",
       "      <td>1163551</td>\n",
       "    </tr>\n",
       "    <tr>\n",
       "      <th>3</th>\n",
       "      <td>62</td>\n",
       "      <td>12162</td>\n",
       "    </tr>\n",
       "    <tr>\n",
       "      <th>4</th>\n",
       "      <td>62</td>\n",
       "      <td>167659</td>\n",
       "    </tr>\n",
       "  </tbody>\n",
       "</table>\n",
       "</div>"
      ],
      "text/plain": [
       "   Source  Destination\n",
       "0      52       401135\n",
       "1      52      1069112\n",
       "2      52      1163551\n",
       "3      62        12162\n",
       "4      62       167659"
      ]
     },
     "execution_count": 2,
     "metadata": {},
     "output_type": "execute_result"
    }
   ],
   "source": [
    "data=pd.read_csv(r'C:\\Users\\Daniele\\Desktop\\hw5\\wiki-topcats-reduced.txt',sep='\\t',header=None)\n",
    "data.columns=['Source','Destination']\n",
    "data.head()"
   ]
  },
  {
   "cell_type": "markdown",
   "metadata": {},
   "source": [
    "### verifico che il grafo sia diretto sempre tramite pandas,nel secondo caso ritorna un dataframe vuoto che conferma che verso 52 non c'è alcun nodo e quindi il grafo è diretto"
   ]
  },
  {
   "cell_type": "code",
   "execution_count": 3,
   "metadata": {
    "scrolled": true
   },
   "outputs": [
    {
     "name": "stdout",
     "output_type": "stream",
     "text": [
      "   Source  Destination\n",
      "0      52       401135\n",
      "1      52      1069112\n",
      "2      52      1163551\n",
      "Empty DataFrame\n",
      "Columns: [Source, Destination]\n",
      "Index: []\n"
     ]
    }
   ],
   "source": [
    "#example that show taht the graph is directd\n",
    "print(data[data['Source'] ==52])\n",
    "print(data[data['Destination'] ==52])"
   ]
  },
  {
   "cell_type": "markdown",
   "metadata": {},
   "source": [
    "### creo il grafo con networkx per la visualizzazzione delle informazioni"
   ]
  },
  {
   "cell_type": "code",
   "execution_count": 4,
   "metadata": {
    "scrolled": true
   },
   "outputs": [
    {
     "data": {
      "text/plain": [
       "'Name: \\nType: DiGraph\\nNumber of nodes: 461193\\nNumber of edges: 2645247\\nAverage in degree:   5.7357\\nAverage out degree:   5.7357'"
      ]
     },
     "execution_count": 4,
     "metadata": {},
     "output_type": "execute_result"
    }
   ],
   "source": [
    "G=nx.from_pandas_edgelist(data,'Destination','Source',create_using=nx.DiGraph()).to_directed()\n",
    "nx.info(G)"
   ]
  },
  {
   "cell_type": "markdown",
   "metadata": {},
   "source": [
    "### sempre tramite nx verifico la densità del grafo"
   ]
  },
  {
   "cell_type": "code",
   "execution_count": 5,
   "metadata": {
    "scrolled": false
   },
   "outputs": [
    {
     "data": {
      "text/plain": [
       "1.2436602635647606e-05"
      ]
     },
     "execution_count": 5,
     "metadata": {},
     "output_type": "execute_result"
    }
   ],
   "source": [
    "nx.density(G)"
   ]
  },
  {
   "cell_type": "markdown",
   "metadata": {},
   "source": [
    "### creo il grafo sotto forma di dizionario che è più veloce rispetto a far girare il bfs dentro al grafo creato con newtworkx"
   ]
  },
  {
   "cell_type": "code",
   "execution_count": 6,
   "metadata": {},
   "outputs": [],
   "source": [
    "grapho=data.groupby('Source')['Destination'].apply(list).to_dict()"
   ]
  },
  {
   "cell_type": "markdown",
   "metadata": {},
   "source": [
    "### leggo il file delle categorie mi creo un dizionario {nome_categoria:nodi}"
   ]
  },
  {
   "cell_type": "code",
   "execution_count": 7,
   "metadata": {},
   "outputs": [],
   "source": [
    "with open(r'C:\\Users\\Daniele\\Desktop\\hw5\\wiki-topcats-categories.txt', 'r') as document:\n",
    "    next(document)\n",
    "    answer = {}\n",
    "    for line in document:\n",
    "        line = line.split()\n",
    "        answer[line[0].replace('Category:','').replace(';','')] = line[1:]"
   ]
  },
  {
   "cell_type": "markdown",
   "metadata": {},
   "source": [
    "### il dizionario di stringhe lo converto in dizionario di interi"
   ]
  },
  {
   "cell_type": "code",
   "execution_count": 9,
   "metadata": {},
   "outputs": [],
   "source": [
    "for el in answer:\n",
    "    answer[el] = list(map(int,answer[el]))"
   ]
  },
  {
   "cell_type": "markdown",
   "metadata": {},
   "source": [
    "### filtro le categorie in modo da avere solo quelle con almeno 3500 nodi come richiesto dagli assistenti"
   ]
  },
  {
   "cell_type": "code",
   "execution_count": 11,
   "metadata": {},
   "outputs": [
    {
     "data": {
      "text/plain": [
       "35"
      ]
     },
     "execution_count": 11,
     "metadata": {},
     "output_type": "execute_result"
    }
   ],
   "source": [
    "filtro_answer=answer\n",
    "f={ k:v for k, v in filtro_answer.items() if len(v)>=3500 }\n",
    "len(f)"
   ]
  },
  {
   "cell_type": "markdown",
   "metadata": {},
   "source": [
    "### BFS: ritorna un dizionario annidato con lo shortest path {nodo_start{nodo_end:shortest_path}}"
   ]
  },
  {
   "cell_type": "code",
   "execution_count": 33,
   "metadata": {},
   "outputs": [],
   "source": [
    "def bfs_prova1(graph, root):\n",
    "    seen, queue = {root}, ct.deque([(root, 0)])\n",
    "    levels = {}\n",
    "    \n",
    "    while queue:\n",
    "        vertex, level = queue.popleft()\n",
    "   \n",
    "        levels[vertex] = level\n",
    "        for node in graph.get(vertex, []):\n",
    "            if node not in seen:\n",
    "                seen.add(node)\n",
    "                queue.append((node, level + 1))\n",
    "    return levels    "
   ]
  },
  {
   "cell_type": "markdown",
   "metadata": {},
   "source": [
    "### le categorie erano composte da nodi senza cammini, quindi ho filtrato i nodi in modo da avere soltanto nodi con cammini e far andare più veloce il bfs; in questa maniera diminuiscono i nodi di tutte le categorie. Lo avevo eseguito prima di sapere come trattare tutti gli inf value."
   ]
  },
  {
   "cell_type": "code",
   "execution_count": 14,
   "metadata": {},
   "outputs": [],
   "source": [
    "#lista con solo nodi funzionanti\n",
    "filter1=list(G.out_edges())\n",
    "func_node= []\n",
    "for i in filter1:\n",
    "    func_node.append(i[0])"
   ]
  },
  {
   "cell_type": "code",
   "execution_count": 15,
   "metadata": {},
   "outputs": [],
   "source": [
    "#dizionario con nodi funzionanti in ogni categoria\n",
    "s = {}\n",
    "for key in f.keys():\n",
    "    s[key] = list(set(f[key]).intersection(set(func_node)))"
   ]
  },
  {
   "cell_type": "markdown",
   "metadata": {},
   "source": [
    "### per vedere quale fosse la categoria minore ho fatto un dizionario che poi ho messo in un dataframe e mi sono fatto colorare il valore minore(da rimuovere)"
   ]
  },
  {
   "cell_type": "code",
   "execution_count": 16,
   "metadata": {},
   "outputs": [],
   "source": [
    "length_dict1 = {key: len(value) for key, value in s.items()}"
   ]
  },
  {
   "cell_type": "code",
   "execution_count": 17,
   "metadata": {},
   "outputs": [],
   "source": [
    "def highlight_min(data, color='yellow'):\n",
    "    '''\n",
    "    highlight the minimum in the DataFrame\n",
    "    '''\n",
    "    attr = 'background-color: {}'.format(color)\n",
    "    if data.ndim == 1:  # Series from .apply(axis=0) or axis=1\n",
    "        is_max = data == data.max()\n",
    "        return [attr if v else '' for v in is_min]\n",
    "    else:  # from .apply(axis=None)\n",
    "        is_min = data == data.min().min()\n",
    "        return pd.DataFrame(np.where(is_min, attr, ''),\n",
    "                            index=data.index, columns=data.columns)"
   ]
  },
  {
   "cell_type": "code",
   "execution_count": 21,
   "metadata": {},
   "outputs": [
    {
     "data": {
      "text/html": [
       "<style  type=\"text/css\" >\n",
       "    #T_773da66e_045a_11e9_bd9f_b870f4a88fd1row7_col0 {\n",
       "            background-color:  darkorange;\n",
       "        }</style>  \n",
       "<table id=\"T_773da66e_045a_11e9_bd9f_b870f4a88fd1\" > \n",
       "<thead>    <tr> \n",
       "        <th class=\"blank level0\" ></th> \n",
       "        <th class=\"col_heading level0 col0\" >Articles</th> \n",
       "    </tr></thead> \n",
       "<tbody>    <tr> \n",
       "        <th id=\"T_773da66e_045a_11e9_bd9f_b870f4a88fd1level0_row0\" class=\"row_heading level0 row0\" >English_footballers</th> \n",
       "        <td id=\"T_773da66e_045a_11e9_bd9f_b870f4a88fd1row0_col0\" class=\"data row0 col0\" >5656</td> \n",
       "    </tr>    <tr> \n",
       "        <th id=\"T_773da66e_045a_11e9_bd9f_b870f4a88fd1level0_row1\" class=\"row_heading level0 row1\" >The_Football_League_players</th> \n",
       "        <td id=\"T_773da66e_045a_11e9_bd9f_b870f4a88fd1row1_col0\" class=\"data row1 col0\" >5907</td> \n",
       "    </tr>    <tr> \n",
       "        <th id=\"T_773da66e_045a_11e9_bd9f_b870f4a88fd1level0_row2\" class=\"row_heading level0 row2\" >Association_football_forwards</th> \n",
       "        <td id=\"T_773da66e_045a_11e9_bd9f_b870f4a88fd1row2_col0\" class=\"data row2 col0\" >3515</td> \n",
       "    </tr>    <tr> \n",
       "        <th id=\"T_773da66e_045a_11e9_bd9f_b870f4a88fd1level0_row3\" class=\"row_heading level0 row3\" >Association_football_goalkeepers</th> \n",
       "        <td id=\"T_773da66e_045a_11e9_bd9f_b870f4a88fd1row3_col0\" class=\"data row3 col0\" >2271</td> \n",
       "    </tr>    <tr> \n",
       "        <th id=\"T_773da66e_045a_11e9_bd9f_b870f4a88fd1level0_row4\" class=\"row_heading level0 row4\" >Association_football_midfielders</th> \n",
       "        <td id=\"T_773da66e_045a_11e9_bd9f_b870f4a88fd1row4_col0\" class=\"data row4 col0\" >3771</td> \n",
       "    </tr>    <tr> \n",
       "        <th id=\"T_773da66e_045a_11e9_bd9f_b870f4a88fd1level0_row5\" class=\"row_heading level0 row5\" >Association_football_defenders</th> \n",
       "        <td id=\"T_773da66e_045a_11e9_bd9f_b870f4a88fd1row5_col0\" class=\"data row5 col0\" >2989</td> \n",
       "    </tr>    <tr> \n",
       "        <th id=\"T_773da66e_045a_11e9_bd9f_b870f4a88fd1level0_row6\" class=\"row_heading level0 row6\" >Living_people</th> \n",
       "        <td id=\"T_773da66e_045a_11e9_bd9f_b870f4a88fd1row6_col0\" class=\"data row6 col0\" >262035</td> \n",
       "    </tr>    <tr> \n",
       "        <th id=\"T_773da66e_045a_11e9_bd9f_b870f4a88fd1level0_row7\" class=\"row_heading level0 row7\" >Year_of_birth_unknown</th> \n",
       "        <td id=\"T_773da66e_045a_11e9_bd9f_b870f4a88fd1row7_col0\" class=\"data row7 col0\" >1612</td> \n",
       "    </tr>    <tr> \n",
       "        <th id=\"T_773da66e_045a_11e9_bd9f_b870f4a88fd1level0_row8\" class=\"row_heading level0 row8\" >Harvard_University_alumni</th> \n",
       "        <td id=\"T_773da66e_045a_11e9_bd9f_b870f4a88fd1row8_col0\" class=\"data row8 col0\" >4111</td> \n",
       "    </tr>    <tr> \n",
       "        <th id=\"T_773da66e_045a_11e9_bd9f_b870f4a88fd1level0_row9\" class=\"row_heading level0 row9\" >Major_League_Baseball_pitchers</th> \n",
       "        <td id=\"T_773da66e_045a_11e9_bd9f_b870f4a88fd1row9_col0\" class=\"data row9 col0\" >3426</td> \n",
       "    </tr>    <tr> \n",
       "        <th id=\"T_773da66e_045a_11e9_bd9f_b870f4a88fd1level0_row10\" class=\"row_heading level0 row10\" >Members_of_the_United_Kingdom_Parliament_for_English_constituencies</th> \n",
       "        <td id=\"T_773da66e_045a_11e9_bd9f_b870f4a88fd1row10_col0\" class=\"data row10 col0\" >6283</td> \n",
       "    </tr>    <tr> \n",
       "        <th id=\"T_773da66e_045a_11e9_bd9f_b870f4a88fd1level0_row11\" class=\"row_heading level0 row11\" >Indian_films</th> \n",
       "        <td id=\"T_773da66e_045a_11e9_bd9f_b870f4a88fd1row11_col0\" class=\"data row11 col0\" >5265</td> \n",
       "    </tr>    <tr> \n",
       "        <th id=\"T_773da66e_045a_11e9_bd9f_b870f4a88fd1level0_row12\" class=\"row_heading level0 row12\" >Year_of_death_missing</th> \n",
       "        <td id=\"T_773da66e_045a_11e9_bd9f_b870f4a88fd1row12_col0\" class=\"data row12 col0\" >2332</td> \n",
       "    </tr>    <tr> \n",
       "        <th id=\"T_773da66e_045a_11e9_bd9f_b870f4a88fd1level0_row13\" class=\"row_heading level0 row13\" >English_cricketers</th> \n",
       "        <td id=\"T_773da66e_045a_11e9_bd9f_b870f4a88fd1row13_col0\" class=\"data row13 col0\" >2761</td> \n",
       "    </tr>    <tr> \n",
       "        <th id=\"T_773da66e_045a_11e9_bd9f_b870f4a88fd1level0_row14\" class=\"row_heading level0 row14\" >Year_of_birth_missing_(living_people)</th> \n",
       "        <td id=\"T_773da66e_045a_11e9_bd9f_b870f4a88fd1row14_col0\" class=\"data row14 col0\" >20861</td> \n",
       "    </tr>    <tr> \n",
       "        <th id=\"T_773da66e_045a_11e9_bd9f_b870f4a88fd1level0_row15\" class=\"row_heading level0 row15\" >Rivers_of_Romania</th> \n",
       "        <td id=\"T_773da66e_045a_11e9_bd9f_b870f4a88fd1row15_col0\" class=\"data row15 col0\" >7659</td> \n",
       "    </tr>    <tr> \n",
       "        <th id=\"T_773da66e_045a_11e9_bd9f_b870f4a88fd1level0_row16\" class=\"row_heading level0 row16\" >Main_Belt_asteroids</th> \n",
       "        <td id=\"T_773da66e_045a_11e9_bd9f_b870f4a88fd1row16_col0\" class=\"data row16 col0\" >4501</td> \n",
       "    </tr>    <tr> \n",
       "        <th id=\"T_773da66e_045a_11e9_bd9f_b870f4a88fd1level0_row17\" class=\"row_heading level0 row17\" >Asteroids_named_for_people</th> \n",
       "        <td id=\"T_773da66e_045a_11e9_bd9f_b870f4a88fd1row17_col0\" class=\"data row17 col0\" >1956</td> \n",
       "    </tr>    <tr> \n",
       "        <th id=\"T_773da66e_045a_11e9_bd9f_b870f4a88fd1level0_row18\" class=\"row_heading level0 row18\" >English-language_albums</th> \n",
       "        <td id=\"T_773da66e_045a_11e9_bd9f_b870f4a88fd1row18_col0\" class=\"data row18 col0\" >4316</td> \n",
       "    </tr>    <tr> \n",
       "        <th id=\"T_773da66e_045a_11e9_bd9f_b870f4a88fd1level0_row19\" class=\"row_heading level0 row19\" >English_television_actors</th> \n",
       "        <td id=\"T_773da66e_045a_11e9_bd9f_b870f4a88fd1row19_col0\" class=\"data row19 col0\" >3075</td> \n",
       "    </tr>    <tr> \n",
       "        <th id=\"T_773da66e_045a_11e9_bd9f_b870f4a88fd1level0_row20\" class=\"row_heading level0 row20\" >British_films</th> \n",
       "        <td id=\"T_773da66e_045a_11e9_bd9f_b870f4a88fd1row20_col0\" class=\"data row20 col0\" >3918</td> \n",
       "    </tr>    <tr> \n",
       "        <th id=\"T_773da66e_045a_11e9_bd9f_b870f4a88fd1level0_row21\" class=\"row_heading level0 row21\" >English-language_films</th> \n",
       "        <td id=\"T_773da66e_045a_11e9_bd9f_b870f4a88fd1row21_col0\" class=\"data row21 col0\" >21132</td> \n",
       "    </tr>    <tr> \n",
       "        <th id=\"T_773da66e_045a_11e9_bd9f_b870f4a88fd1level0_row22\" class=\"row_heading level0 row22\" >American_films</th> \n",
       "        <td id=\"T_773da66e_045a_11e9_bd9f_b870f4a88fd1row22_col0\" class=\"data row22 col0\" >14367</td> \n",
       "    </tr>    <tr> \n",
       "        <th id=\"T_773da66e_045a_11e9_bd9f_b870f4a88fd1level0_row23\" class=\"row_heading level0 row23\" >Fellows_of_the_Royal_Society</th> \n",
       "        <td id=\"T_773da66e_045a_11e9_bd9f_b870f4a88fd1row23_col0\" class=\"data row23 col0\" >2638</td> \n",
       "    </tr>    <tr> \n",
       "        <th id=\"T_773da66e_045a_11e9_bd9f_b870f4a88fd1level0_row24\" class=\"row_heading level0 row24\" >People_from_New_York_City</th> \n",
       "        <td id=\"T_773da66e_045a_11e9_bd9f_b870f4a88fd1row24_col0\" class=\"data row24 col0\" >3719</td> \n",
       "    </tr>    <tr> \n",
       "        <th id=\"T_773da66e_045a_11e9_bd9f_b870f4a88fd1level0_row25\" class=\"row_heading level0 row25\" >American_Jews</th> \n",
       "        <td id=\"T_773da66e_045a_11e9_bd9f_b870f4a88fd1row25_col0\" class=\"data row25 col0\" >2921</td> \n",
       "    </tr>    <tr> \n",
       "        <th id=\"T_773da66e_045a_11e9_bd9f_b870f4a88fd1level0_row26\" class=\"row_heading level0 row26\" >American_television_actors</th> \n",
       "        <td id=\"T_773da66e_045a_11e9_bd9f_b870f4a88fd1row26_col0\" class=\"data row26 col0\" >10466</td> \n",
       "    </tr>    <tr> \n",
       "        <th id=\"T_773da66e_045a_11e9_bd9f_b870f4a88fd1level0_row27\" class=\"row_heading level0 row27\" >American_film_actors</th> \n",
       "        <td id=\"T_773da66e_045a_11e9_bd9f_b870f4a88fd1row27_col0\" class=\"data row27 col0\" >13111</td> \n",
       "    </tr>    <tr> \n",
       "        <th id=\"T_773da66e_045a_11e9_bd9f_b870f4a88fd1level0_row28\" class=\"row_heading level0 row28\" >Debut_albums</th> \n",
       "        <td id=\"T_773da66e_045a_11e9_bd9f_b870f4a88fd1row28_col0\" class=\"data row28 col0\" >6158</td> \n",
       "    </tr>    <tr> \n",
       "        <th id=\"T_773da66e_045a_11e9_bd9f_b870f4a88fd1level0_row29\" class=\"row_heading level0 row29\" >Black-and-white_films</th> \n",
       "        <td id=\"T_773da66e_045a_11e9_bd9f_b870f4a88fd1row29_col0\" class=\"data row29 col0\" >9657</td> \n",
       "    </tr>    <tr> \n",
       "        <th id=\"T_773da66e_045a_11e9_bd9f_b870f4a88fd1level0_row30\" class=\"row_heading level0 row30\" >Year_of_birth_missing</th> \n",
       "        <td id=\"T_773da66e_045a_11e9_bd9f_b870f4a88fd1row30_col0\" class=\"data row30 col0\" >2572</td> \n",
       "    </tr>    <tr> \n",
       "        <th id=\"T_773da66e_045a_11e9_bd9f_b870f4a88fd1level0_row31\" class=\"row_heading level0 row31\" >Place_of_birth_missing_(living_people)</th> \n",
       "        <td id=\"T_773da66e_045a_11e9_bd9f_b870f4a88fd1row31_col0\" class=\"data row31 col0\" >4228</td> \n",
       "    </tr>    <tr> \n",
       "        <th id=\"T_773da66e_045a_11e9_bd9f_b870f4a88fd1level0_row32\" class=\"row_heading level0 row32\" >Article_Feedback_Pilot</th> \n",
       "        <td id=\"T_773da66e_045a_11e9_bd9f_b870f4a88fd1row32_col0\" class=\"data row32 col0\" >2867</td> \n",
       "    </tr>    <tr> \n",
       "        <th id=\"T_773da66e_045a_11e9_bd9f_b870f4a88fd1level0_row33\" class=\"row_heading level0 row33\" >American_military_personnel_of_World_War_II</th> \n",
       "        <td id=\"T_773da66e_045a_11e9_bd9f_b870f4a88fd1row33_col0\" class=\"data row33 col0\" >2584</td> \n",
       "    </tr>    <tr> \n",
       "        <th id=\"T_773da66e_045a_11e9_bd9f_b870f4a88fd1level0_row34\" class=\"row_heading level0 row34\" >Windows_games</th> \n",
       "        <td id=\"T_773da66e_045a_11e9_bd9f_b870f4a88fd1row34_col0\" class=\"data row34 col0\" >3312</td> \n",
       "    </tr></tbody> \n",
       "</table> "
      ],
      "text/plain": [
       "<pandas.io.formats.style.Styler at 0x1604a1e2630>"
      ]
     },
     "execution_count": 21,
     "metadata": {},
     "output_type": "execute_result"
    }
   ],
   "source": [
    "lenght_dataframe=pd.Series(length_dict1).to_frame()\n",
    "lenght_dataframe.columns=['Articles']\n",
    "lenght_dataframe.style.apply(highlight_min, color='darkorange', axis=None)"
   ]
  },
  {
   "cell_type": "markdown",
   "metadata": {},
   "source": [
    "### Inizializzo un dizionario con lista vuota per ogni categoria e giro il bfs. Non salva più nulla in memoria, divide in ogni categoria gli shortest path. Qui l'ho girato per una categoria minore per lavorare sul portatile. "
   ]
  },
  {
   "cell_type": "code",
   "execution_count": 40,
   "metadata": {},
   "outputs": [
    {
     "name": "stderr",
     "output_type": "stream",
     "text": [
      "100%|████████████████████████████████████████████████████████████████████████████████| 103/103 [01:04<00:00,  5.40it/s]\n"
     ]
    }
   ],
   "source": [
    "block_ran={k:[] for k in s.keys()}\n",
    "for i in tqdm(answer['People_from_Worcester']):\n",
    "    tree= bfs_prova1(grapho,i)\n",
    "    for k,v in s.items():\n",
    "        for node in v:\n",
    "            if node in tree.keys():  \n",
    "                block_ran[k].append(tree[node])"
   ]
  },
  {
   "cell_type": "code",
   "execution_count": 37,
   "metadata": {},
   "outputs": [],
   "source": [
    "#funzione per la mediana\n",
    "def median(lst):\n",
    "    lst.sort()\n",
    "    half = len(lst)//2  # integer division\n",
    "    b = lst[half]\n",
    "    c = lst[-half-1]  # for odd lengths, b == c\n",
    "    return (b + c) / 2"
   ]
  },
  {
   "cell_type": "markdown",
   "metadata": {},
   "source": [
    "### calcolo la mediana dal block ranking e metto tutto  in un dataframe. bisogna eliminare dal dizionario la categoria di partenza e metterla a valore 0(qui ho messo appunto 'People_from_Worcester':0.0). Va rimodificato solo il rank con il rank che avevi pensato (1/log(len(inf)) e la parte del block ranking è finita."
   ]
  },
  {
   "cell_type": "code",
   "execution_count": 41,
   "metadata": {
    "scrolled": true
   },
   "outputs": [
    {
     "data": {
      "text/html": [
       "<div>\n",
       "<style scoped>\n",
       "    .dataframe tbody tr th:only-of-type {\n",
       "        vertical-align: middle;\n",
       "    }\n",
       "\n",
       "    .dataframe tbody tr th {\n",
       "        vertical-align: top;\n",
       "    }\n",
       "\n",
       "    .dataframe thead th {\n",
       "        text-align: right;\n",
       "    }\n",
       "</style>\n",
       "<table border=\"1\" class=\"dataframe\">\n",
       "  <thead>\n",
       "    <tr style=\"text-align: right;\">\n",
       "      <th></th>\n",
       "      <th>Category</th>\n",
       "      <th>Rank</th>\n",
       "    </tr>\n",
       "  </thead>\n",
       "  <tbody>\n",
       "    <tr>\n",
       "      <th>0</th>\n",
       "      <td>People_from_Worcester</td>\n",
       "      <td>0.0</td>\n",
       "    </tr>\n",
       "    <tr>\n",
       "      <th>1</th>\n",
       "      <td>Article_Feedback_Pilot</td>\n",
       "      <td>5.0</td>\n",
       "    </tr>\n",
       "    <tr>\n",
       "      <th>2</th>\n",
       "      <td>English_footballers</td>\n",
       "      <td>6.0</td>\n",
       "    </tr>\n",
       "    <tr>\n",
       "      <th>3</th>\n",
       "      <td>The_Football_League_players</td>\n",
       "      <td>6.0</td>\n",
       "    </tr>\n",
       "    <tr>\n",
       "      <th>4</th>\n",
       "      <td>Harvard_University_alumni</td>\n",
       "      <td>6.0</td>\n",
       "    </tr>\n",
       "    <tr>\n",
       "      <th>5</th>\n",
       "      <td>Members_of_the_United_Kingdom_Parliament_for_E...</td>\n",
       "      <td>6.0</td>\n",
       "    </tr>\n",
       "    <tr>\n",
       "      <th>6</th>\n",
       "      <td>English-language_albums</td>\n",
       "      <td>6.0</td>\n",
       "    </tr>\n",
       "    <tr>\n",
       "      <th>7</th>\n",
       "      <td>English_television_actors</td>\n",
       "      <td>6.0</td>\n",
       "    </tr>\n",
       "    <tr>\n",
       "      <th>8</th>\n",
       "      <td>British_films</td>\n",
       "      <td>6.0</td>\n",
       "    </tr>\n",
       "    <tr>\n",
       "      <th>9</th>\n",
       "      <td>English-language_films</td>\n",
       "      <td>6.0</td>\n",
       "    </tr>\n",
       "    <tr>\n",
       "      <th>10</th>\n",
       "      <td>American_films</td>\n",
       "      <td>6.0</td>\n",
       "    </tr>\n",
       "    <tr>\n",
       "      <th>11</th>\n",
       "      <td>Fellows_of_the_Royal_Society</td>\n",
       "      <td>6.0</td>\n",
       "    </tr>\n",
       "    <tr>\n",
       "      <th>12</th>\n",
       "      <td>People_from_New_York_City</td>\n",
       "      <td>6.0</td>\n",
       "    </tr>\n",
       "    <tr>\n",
       "      <th>13</th>\n",
       "      <td>American_Jews</td>\n",
       "      <td>6.0</td>\n",
       "    </tr>\n",
       "    <tr>\n",
       "      <th>14</th>\n",
       "      <td>American_television_actors</td>\n",
       "      <td>6.0</td>\n",
       "    </tr>\n",
       "    <tr>\n",
       "      <th>15</th>\n",
       "      <td>American_film_actors</td>\n",
       "      <td>6.0</td>\n",
       "    </tr>\n",
       "    <tr>\n",
       "      <th>16</th>\n",
       "      <td>Black-and-white_films</td>\n",
       "      <td>6.0</td>\n",
       "    </tr>\n",
       "    <tr>\n",
       "      <th>17</th>\n",
       "      <td>Place_of_birth_missing_(living_people)</td>\n",
       "      <td>6.0</td>\n",
       "    </tr>\n",
       "    <tr>\n",
       "      <th>18</th>\n",
       "      <td>American_military_personnel_of_World_War_II</td>\n",
       "      <td>6.0</td>\n",
       "    </tr>\n",
       "    <tr>\n",
       "      <th>19</th>\n",
       "      <td>Association_football_forwards</td>\n",
       "      <td>7.0</td>\n",
       "    </tr>\n",
       "    <tr>\n",
       "      <th>20</th>\n",
       "      <td>Association_football_goalkeepers</td>\n",
       "      <td>7.0</td>\n",
       "    </tr>\n",
       "    <tr>\n",
       "      <th>21</th>\n",
       "      <td>Association_football_midfielders</td>\n",
       "      <td>7.0</td>\n",
       "    </tr>\n",
       "    <tr>\n",
       "      <th>22</th>\n",
       "      <td>Association_football_defenders</td>\n",
       "      <td>7.0</td>\n",
       "    </tr>\n",
       "    <tr>\n",
       "      <th>23</th>\n",
       "      <td>Living_people</td>\n",
       "      <td>7.0</td>\n",
       "    </tr>\n",
       "    <tr>\n",
       "      <th>24</th>\n",
       "      <td>Year_of_birth_unknown</td>\n",
       "      <td>7.0</td>\n",
       "    </tr>\n",
       "    <tr>\n",
       "      <th>25</th>\n",
       "      <td>Major_League_Baseball_pitchers</td>\n",
       "      <td>7.0</td>\n",
       "    </tr>\n",
       "    <tr>\n",
       "      <th>26</th>\n",
       "      <td>Indian_films</td>\n",
       "      <td>7.0</td>\n",
       "    </tr>\n",
       "    <tr>\n",
       "      <th>27</th>\n",
       "      <td>Year_of_death_missing</td>\n",
       "      <td>7.0</td>\n",
       "    </tr>\n",
       "    <tr>\n",
       "      <th>28</th>\n",
       "      <td>English_cricketers</td>\n",
       "      <td>7.0</td>\n",
       "    </tr>\n",
       "    <tr>\n",
       "      <th>29</th>\n",
       "      <td>Year_of_birth_missing_(living_people)</td>\n",
       "      <td>7.0</td>\n",
       "    </tr>\n",
       "    <tr>\n",
       "      <th>30</th>\n",
       "      <td>Rivers_of_Romania</td>\n",
       "      <td>7.0</td>\n",
       "    </tr>\n",
       "    <tr>\n",
       "      <th>31</th>\n",
       "      <td>Debut_albums</td>\n",
       "      <td>7.0</td>\n",
       "    </tr>\n",
       "    <tr>\n",
       "      <th>32</th>\n",
       "      <td>Year_of_birth_missing</td>\n",
       "      <td>7.0</td>\n",
       "    </tr>\n",
       "    <tr>\n",
       "      <th>33</th>\n",
       "      <td>Windows_games</td>\n",
       "      <td>7.0</td>\n",
       "    </tr>\n",
       "    <tr>\n",
       "      <th>34</th>\n",
       "      <td>Main_Belt_asteroids</td>\n",
       "      <td>8.0</td>\n",
       "    </tr>\n",
       "    <tr>\n",
       "      <th>35</th>\n",
       "      <td>Asteroids_named_for_people</td>\n",
       "      <td>8.0</td>\n",
       "    </tr>\n",
       "  </tbody>\n",
       "</table>\n",
       "</div>"
      ],
      "text/plain": [
       "                                             Category  Rank\n",
       "0                               People_from_Worcester   0.0\n",
       "1                              Article_Feedback_Pilot   5.0\n",
       "2                                 English_footballers   6.0\n",
       "3                         The_Football_League_players   6.0\n",
       "4                           Harvard_University_alumni   6.0\n",
       "5   Members_of_the_United_Kingdom_Parliament_for_E...   6.0\n",
       "6                             English-language_albums   6.0\n",
       "7                           English_television_actors   6.0\n",
       "8                                       British_films   6.0\n",
       "9                              English-language_films   6.0\n",
       "10                                     American_films   6.0\n",
       "11                       Fellows_of_the_Royal_Society   6.0\n",
       "12                          People_from_New_York_City   6.0\n",
       "13                                      American_Jews   6.0\n",
       "14                         American_television_actors   6.0\n",
       "15                               American_film_actors   6.0\n",
       "16                              Black-and-white_films   6.0\n",
       "17             Place_of_birth_missing_(living_people)   6.0\n",
       "18        American_military_personnel_of_World_War_II   6.0\n",
       "19                      Association_football_forwards   7.0\n",
       "20                   Association_football_goalkeepers   7.0\n",
       "21                   Association_football_midfielders   7.0\n",
       "22                     Association_football_defenders   7.0\n",
       "23                                      Living_people   7.0\n",
       "24                              Year_of_birth_unknown   7.0\n",
       "25                     Major_League_Baseball_pitchers   7.0\n",
       "26                                       Indian_films   7.0\n",
       "27                              Year_of_death_missing   7.0\n",
       "28                                 English_cricketers   7.0\n",
       "29              Year_of_birth_missing_(living_people)   7.0\n",
       "30                                  Rivers_of_Romania   7.0\n",
       "31                                       Debut_albums   7.0\n",
       "32                              Year_of_birth_missing   7.0\n",
       "33                                      Windows_games   7.0\n",
       "34                                Main_Belt_asteroids   8.0\n",
       "35                         Asteroids_named_for_people   8.0"
      ]
     },
     "execution_count": 41,
     "metadata": {},
     "output_type": "execute_result"
    }
   ],
   "source": [
    "for k,v in block_ran.items():\n",
    "    block_ran[k]=median(v)\n",
    "block_ran.update({'People_from_Worcester':0.0})     \n",
    "sorted_by_value = sorted(block_ran.items(), key=lambda kv: kv[1])\n",
    "df=pd.DataFrame(sorted_by_value)\n",
    "df.columns=['Category','Rank']\n",
    "df"
   ]
  },
  {
   "cell_type": "markdown",
   "metadata": {},
   "source": [
    "# Node ranking"
   ]
  },
  {
   "cell_type": "markdown",
   "metadata": {},
   "source": [
    "### Creo una lista di categorie con tutti i pesi di ogni articolo ; ho usato nx.subgraph di networkx e per il calcolo di tutti i pesi nx.degree    dentro a node_ranking ho una lista di defaultdict(in modo da evitare errori quando non trovava chiavi) costituita da nodo e peso {defaultdict(int,{nodo,peso})}"
   ]
  },
  {
   "cell_type": "code",
   "execution_count": 45,
   "metadata": {},
   "outputs": [],
   "source": [
    "node_ranking=[]\n",
    "for i in block_ran:\n",
    "    sub=G.subgraph(s[i])\n",
    "    temp=ct.defaultdict(int)\n",
    "    for node in sub.nodes():\n",
    "        temp[node]=sub.degree(node)\n",
    "    node_ranking.append(temp)            "
   ]
  },
  {
   "cell_type": "markdown",
   "metadata": {},
   "source": [
    "### Creo il ranking di ogni nodo; itero dentro la lista di dizionari, uso nx.predecessor per vedere i nodi in ingresso (se li trova sommo il peso del nodo attuale a quello precedente). Adesso dentro node_ranking ho  {defaultdict(int,{nodo, somma_pesi})}"
   ]
  },
  {
   "cell_type": "code",
   "execution_count": 47,
   "metadata": {},
   "outputs": [],
   "source": [
    "for i in range(1,len(node_ranking)):\n",
    "    for node in node_ranking[i]:\n",
    "        for predecessor in G.predecessors(node):\n",
    "            node_ranking[i][node] += node_ranking[i-1][predecessor]"
   ]
  },
  {
   "cell_type": "markdown",
   "metadata": {},
   "source": [
    "### creo un nuovo dizionario annidato dove ho {nome_categoria{ nodo:somma pesi}}"
   ]
  },
  {
   "cell_type": "code",
   "execution_count": 51,
   "metadata": {},
   "outputs": [],
   "source": [
    "node_ranking_final={}\n",
    "#itero dentro alla lista di dizionari\n",
    "for i in node_ranking:\n",
    "    #riprendo il nome delle categorie dal precedente dizionario s\n",
    "    for category in s:\n",
    "        #converto il defaultDict in un normale dizionario\n",
    "        node_ranking_final[category]=dict(i)\n",
    "        "
   ]
  },
  {
   "cell_type": "markdown",
   "metadata": {},
   "source": [
    "### creo il dizionario finale dove ho una lista di tuple per ogni categoria ordinato sui valori {categoria:[(nodo,somma pesi)]}"
   ]
  },
  {
   "cell_type": "code",
   "execution_count": 54,
   "metadata": {},
   "outputs": [],
   "source": [
    "node_ranking_final_sorted={}\n",
    "for k,v in node_ranking_final.items():\n",
    "    order=sorted(v.items(), key=itemgetter(1),reverse=True)\n",
    "    node_ranking_final_sorted[k]=order\n",
    "    "
   ]
  }
 ],
 "metadata": {
  "kernelspec": {
   "display_name": "Python 3",
   "language": "python",
   "name": "python3"
  },
  "language_info": {
   "codemirror_mode": {
    "name": "ipython",
    "version": 3
   },
   "file_extension": ".py",
   "mimetype": "text/x-python",
   "name": "python",
   "nbconvert_exporter": "python",
   "pygments_lexer": "ipython3",
   "version": "3.6.4"
  }
 },
 "nbformat": 4,
 "nbformat_minor": 2
}
